{
 "cells": [
  {
   "cell_type": "markdown",
   "metadata": {},
   "source": [
    "# Challenge para LATAM - Juan José Valenzuela A\n",
    "\n",
    "## Primera Función q1_memory.py\n",
    "\n",
    "### Estrategia\n",
    "\n",
    "Para darle un enfoque de optimización de uso de memoria utilicé la siguiente estrategia:\n",
    "\n",
    "- **Carga progresiva de datos:** Leo el archivo JSON línea por línea y cargo cada línea como un objeto JSON individual. Esto significa que solo una pequeña parte del archivo se mantiene en memoria a la vez, en lugar de cargar el archivo completo.\n",
    "\n",
    "- **Uso eficiente de la memoria:** A medida que proceso cada tweet, guardo los datos en listas temporales. Estos objetos usan memoria, pero al procesar línea por línea e ir actualizando la cuenta a medida que se procesa cada tweet, se evita guardar muchos datos redundantes en memoria.\n",
    "\n",
    "- **No se guardan en memoria todos los tweets a la vez:** Al procesar los tweets uno por uno no es necesario almacenarlos todos en memoria."
   ]
  },
  {
   "cell_type": "code",
   "execution_count": 23,
   "metadata": {},
   "outputs": [
    {
     "name": "stdout",
     "output_type": "stream",
     "text": [
      "Top 10 fechas con más tweets y usuarios con más publicaciones en dichas fechas\n",
      "Fecha: 2021-02-12, Usuario con más publicaciones: Ranbir Singh\n",
      "Fecha: 2021-02-13, Usuario con más publicaciones: ਦੀਪ,ਮਾਨ\n",
      "Fecha: 2021-02-17, Usuario con más publicaciones: Rkaur\n",
      "Fecha: 2021-02-16, Usuario con más publicaciones: Jot\n",
      "Fecha: 2021-02-14, Usuario con más publicaciones: Theinactiveactivist\n",
      "Fecha: 2021-02-18, Usuario con más publicaciones: Nitu\n",
      "Fecha: 2021-02-15, Usuario con más publicaciones: Jot\n",
      "Fecha: 2021-02-20, Usuario con más publicaciones: MJeet Singh🇮🇳\n",
      "Fecha: 2021-02-23, Usuario con más publicaciones: Surrypur\n",
      "Fecha: 2021-02-19, Usuario con más publicaciones: ਪ੍ਰੀਤਮ\n"
     ]
    }
   ],
   "source": [
    "from q1_memory import q1_memory\n",
    "\n",
    "# Ejemplo de como llamo la función para probar su funcionamiento\n",
    "\n",
    "#Defino la ruta del archivo en una variable\n",
    "file_path = r'c:\\Software\\latam_challenge\\farmers-protest-tweets-2021-2-4.json'\n",
    "\n",
    "# Llamo a la función con la ruta del archivo JSON\n",
    "resultados = q1_memory(file_path)\n",
    "\n",
    "# Muestro los resultados\n",
    "print('Top 10 fechas con más tweets y usuarios con más publicaciones en dichas fechas')\n",
    "for fecha, usuario in resultados:\n",
    "    print(f'Fecha: {fecha}, Usuario con más publicaciones: {usuario}')"
   ]
  },
  {
   "cell_type": "markdown",
   "metadata": {},
   "source": [
    "## Segunda Función q1_time.py\n",
    "\n",
    "### Estrategia\n",
    "\n",
    "Para darle un enfoque de optimización de tiempo de ejecución utilicé la siguiente estrategia:\n",
    "\n",
    "Actualizo el conteo de tweets por fecha y el usuario con más publicaciones para cada fecha simultáneamente\n"
   ]
  },
  {
   "cell_type": "code",
   "execution_count": 24,
   "metadata": {},
   "outputs": [
    {
     "name": "stdout",
     "output_type": "stream",
     "text": [
      "Top 10 fechas con más tweets y usuarios con más publicaciones en dichas fechas\n",
      "Fecha: 2021-02-12, Usuario con más publicaciones: SikhVibes\n",
      "Fecha: 2021-02-13, Usuario con más publicaciones: Gurpreet\n",
      "Fecha: 2021-02-17, Usuario con más publicaciones: Movimento Ghadar Italiano\n",
      "Fecha: 2021-02-16, Usuario con más publicaciones: Anu Manhas\n",
      "Fecha: 2021-02-14, Usuario con más publicaciones: virk\n",
      "Fecha: 2021-02-18, Usuario con más publicaciones: Theinactiveactivist\n",
      "Fecha: 2021-02-15, Usuario con más publicaciones: Deep Singh\n",
      "Fecha: 2021-02-20, Usuario con más publicaciones: IndiaToday\n",
      "Fecha: 2021-02-23, Usuario con más publicaciones: Sahib Singh\n",
      "Fecha: 2021-02-19, Usuario con más publicaciones: AsianWomenMeanBusiness\n"
     ]
    }
   ],
   "source": [
    "from q1_time import q1_time\n",
    "\n",
    "# Ejemplo de como llamo la función para probar su funcionamiento\n",
    "\n",
    "#Defino la ruta del archivo en una variable\n",
    "file_path = r'c:\\Software\\latam_challenge\\farmers-protest-tweets-2021-2-4.json'\n",
    "\n",
    "# Llamo a la función con la ruta del archivo JSON\n",
    "resultados = q1_time(file_path)\n",
    "\n",
    "# Muestro los resultados\n",
    "print('Top 10 fechas con más tweets y usuarios con más publicaciones en dichas fechas')\n",
    "for fecha, usuario in resultados:\n",
    "    print(f'Fecha: {fecha}, Usuario con más publicaciones: {usuario}')"
   ]
  }
 ],
 "metadata": {
  "kernelspec": {
   "display_name": "Python 3",
   "language": "python",
   "name": "python3"
  },
  "language_info": {
   "codemirror_mode": {
    "name": "ipython",
    "version": 3
   },
   "file_extension": ".py",
   "mimetype": "text/x-python",
   "name": "python",
   "nbconvert_exporter": "python",
   "pygments_lexer": "ipython3",
   "version": "3.12.2"
  },
  "orig_nbformat": 4
 },
 "nbformat": 4,
 "nbformat_minor": 2
}
