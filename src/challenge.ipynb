{
 "cells": [
  {
   "cell_type": "markdown",
   "metadata": {},
   "source": [
    "# Challenge para LATAM - Juan José Valenzuela A\n",
    "\n",
    "## Primera Función q1_memory.py\n",
    "\n",
    "### Estrategia\n",
    "\n",
    "Para darle un enfoque de optimización de uso de memoria utilicé la siguiente estrategia:\n",
    "\n",
    "- **Carga progresiva de datos:** Leo el archivo JSON línea por línea y cargo cada línea como un objeto JSON individual. Esto significa que solo una pequeña parte del archivo se mantiene en memoria a la vez, en lugar de cargar el archivo completo.\n",
    "\n",
    "- **Uso eficiente de la memoria:** A medida que proceso cada tweet, guardo los datos en listas temporales. Estos objetos usan memoria, pero al procesar línea por línea e ir actualizando la cuenta a medida que se procesa cada tweet, se evita guardar muchos datos redundantes en memoria.\n",
    "\n",
    "- **No se guardan en memoria todos los tweets a la vez:** Al procesar los tweets uno por uno no es necesario almacenarlos todos en memoria."
   ]
  },
  {
   "cell_type": "code",
   "execution_count": 3,
   "metadata": {},
   "outputs": [
    {
     "name": "stdout",
     "output_type": "stream",
     "text": [
      "Top 10 fechas con más tweets y usuarios con más publicaciones en dichas fechas\n",
      "Fecha: 2021-02-12, Usuario con más publicaciones: RanbirS00614606\n",
      "Fecha: 2021-02-13, Usuario con más publicaciones: MaanDee08215437\n",
      "Fecha: 2021-02-17, Usuario con más publicaciones: RaaJVinderkaur\n",
      "Fecha: 2021-02-16, Usuario con más publicaciones: jot__b\n",
      "Fecha: 2021-02-14, Usuario con más publicaciones: rebelpacifist\n",
      "Fecha: 2021-02-18, Usuario con más publicaciones: neetuanjle_nitu\n",
      "Fecha: 2021-02-15, Usuario con más publicaciones: jot__b\n",
      "Fecha: 2021-02-20, Usuario con más publicaciones: MangalJ23056160\n",
      "Fecha: 2021-02-23, Usuario con más publicaciones: Surrypuria\n",
      "Fecha: 2021-02-19, Usuario con más publicaciones: Preetm91\n"
     ]
    }
   ],
   "source": [
    "from q1_memory import q1_memory\n",
    "\n",
    "# Ejemplo de como llamo la función para probar su funcionamiento\n",
    "\n",
    "#Defino la ruta del archivo en una variable\n",
    "file_path = r'c:\\Software\\latam_challenge\\farmers-protest-tweets-2021-2-4.json'\n",
    "\n",
    "# Llamo a la función con la ruta del archivo JSON\n",
    "resultados = q1_memory(file_path)\n",
    "\n",
    "# Muestro los resultados\n",
    "print('Top 10 fechas con más tweets y usuarios con más publicaciones en dichas fechas')\n",
    "for fecha, usuario in resultados:\n",
    "    print(f'Fecha: {fecha}, Usuario con más publicaciones: {usuario}')"
   ]
  },
  {
   "cell_type": "markdown",
   "metadata": {},
   "source": [
    "## Segunda Función q1_time.py\n",
    "\n",
    "### Estrategia\n",
    "\n",
    "Para darle un enfoque de optimización de tiempo de ejecución utilicé la librería Pandas, que no se preocupa por memoria ya que carga todo el archivo dentro de un dataframe, pero terminó siendo 10 veces más lenta que la versión que optimiza la memoria. Voy a dejar este ejercicio hasta acá para poder terminar los siguientes. Si me queda tiempo al final probaré alguna otra librería que no cuida la memoria y que pudiera dar un resultado más rápido.\n"
   ]
  },
  {
   "cell_type": "code",
   "execution_count": 2,
   "metadata": {},
   "outputs": [
    {
     "name": "stdout",
     "output_type": "stream",
     "text": [
      "Top 10 fechas con más tweets y usuarios con más publicaciones en dichas fechas\n",
      "Fecha: 2021-02-12, Usuario con más publicaciones: RanbirS00614606\n",
      "Fecha: 2021-02-13, Usuario con más publicaciones: MaanDee08215437\n",
      "Fecha: 2021-02-17, Usuario con más publicaciones: RaaJVinderkaur\n",
      "Fecha: 2021-02-16, Usuario con más publicaciones: jot__b\n",
      "Fecha: 2021-02-14, Usuario con más publicaciones: rebelpacifist\n",
      "Fecha: 2021-02-18, Usuario con más publicaciones: neetuanjle_nitu\n",
      "Fecha: 2021-02-15, Usuario con más publicaciones: jot__b\n",
      "Fecha: 2021-02-20, Usuario con más publicaciones: MangalJ23056160\n",
      "Fecha: 2021-02-23, Usuario con más publicaciones: Surrypuria\n",
      "Fecha: 2021-02-19, Usuario con más publicaciones: Preetm91\n"
     ]
    }
   ],
   "source": [
    "from q1_time import q1_time\n",
    "\n",
    "# Ejemplo de como llamo la función para probar su funcionamiento\n",
    "\n",
    "#Defino la ruta del archivo en una variable\n",
    "file_path = r'c:\\Software\\latam_challenge\\farmers-protest-tweets-2021-2-4.json'\n",
    "\n",
    "# Llamo a la función con la ruta del archivo JSON\n",
    "resultados = q1_time(file_path)\n",
    "\n",
    "# Muestro los resultados\n",
    "print('Top 10 fechas con más tweets y usuarios con más publicaciones en dichas fechas')\n",
    "for fecha, usuario in resultados:\n",
    "    print(f'Fecha: {fecha}, Usuario con más publicaciones: {usuario}')"
   ]
  },
  {
   "cell_type": "markdown",
   "metadata": {},
   "source": [
    "## Tercera Función q2_memory.py\n",
    "\n",
    "### Estrategia\n",
    "\n",
    "Para darle un enfoque de optimización de uso de memoria utilicé la siguiente estrategia:\n",
    "\n",
    "Leo el archivo JSON línea por línea y cargo cada línea como un objeto JSON individual. Esto significa que solo una pequeña parte del archivo se mantiene en memoria a la vez, en lugar de cargar el archivo completo. A medida que proceso cada tweet, voy actualizando la cuenta. El contenido de los tweets se libera. Utilizo una librería que permite obtener de cada tweet el listado de los emojis utilizados"
   ]
  },
  {
   "cell_type": "code",
   "execution_count": 3,
   "metadata": {},
   "outputs": [
    {
     "name": "stdout",
     "output_type": "stream",
     "text": [
      "Top 10 emojis más usados (versión memoria): [('🙏', 5049), ('😂', 3072), ('🚜', 2972), ('🌾', 2182), ('🇮🇳', 2086), ('🤣', 1668), ('✊', 1651), ('❤️', 1382), ('🙏🏻', 1317), ('💚', 1040)]\n"
     ]
    }
   ],
   "source": [
    "from q2_memory import q2_memory\n",
    "\n",
    "# Ejemplo de como llamo la función para probar su funcionamiento\n",
    "\n",
    "#Defino la ruta del archivo en una variable\n",
    "file_path = r'c:\\Software\\latam_challenge\\farmers-protest-tweets-2021-2-4.json'\n",
    "\n",
    "# Llamo a la función con la ruta del archivo JSON\n",
    "resultados = q2_memory(file_path)\n",
    "print(\"Top 10 emojis más usados (versión memoria):\", resultados)\n"
   ]
  },
  {
   "cell_type": "markdown",
   "metadata": {},
   "source": [
    "## Cuarta Función q2_time.py\n",
    "\n",
    "### Estrategia\n",
    "Cargo el JSON de manera laxa de forma que los emojis siguen estando en formato de texto regular \\uxxxx y los proceso como texto. Esto le dio una velocidad extra mayor."
   ]
  },
  {
   "cell_type": "code",
   "execution_count": 1,
   "metadata": {},
   "outputs": [
    {
     "name": "stdout",
     "output_type": "stream",
     "text": [
      "Top 10 emojis más usados (versión tiempo): [('\\\\u093e', 136407), ('\\\\u0915', 103251), ('\\\\u0930', 82951), ('\\\\u0947', 82298), ('\\\\u0928', 71288), ('\\\\u0a3e', 66686), ('\\\\u0940', 60947), ('\\\\u0939', 59961), ('\\\\u0938', 54650), ('\\\\u093f', 53414)]\n"
     ]
    }
   ],
   "source": [
    "from q2_time import q2_time\n",
    "\n",
    "# Ejemplo de como llamo la función para probar su funcionamiento\n",
    "\n",
    "#Defino la ruta del archivo en una variable\n",
    "file_path = r'c:\\Software\\latam_challenge\\farmers-protest-tweets-2021-2-4.json'\n",
    "\n",
    "# Llamo a la función con la ruta del archivo JSON\n",
    "resultados = q2_time(file_path)\n",
    "print(\"Top 10 emojis más usados (versión tiempo):\", resultados)\n"
   ]
  },
  {
   "cell_type": "markdown",
   "metadata": {},
   "source": [
    "## Quinta Función q3_memory.py\n",
    "\n",
    "### Estrategia\n",
    "Recorro el archivo línea por línea y cuento las menciones por cada usuario"
   ]
  },
  {
   "cell_type": "code",
   "execution_count": 2,
   "metadata": {},
   "outputs": [
    {
     "name": "stdout",
     "output_type": "stream",
     "text": [
      "[('narendramodi', 2265), ('Kisanektamorcha', 1840), ('RakeshTikaitBKU', 1644), ('PMOIndia', 1427), ('RahulGandhi', 1146), ('GretaThunberg', 1048), ('RaviSinghKA', 1019), ('rihanna', 986), ('UNHumanRights', 962), ('meenaharris', 926)]\n"
     ]
    }
   ],
   "source": [
    "from q3_memory import q3_memory\n",
    "\n",
    "# Ejemplo de como llamo la función para probar su funcionamiento\n",
    "\n",
    "#Defino la ruta del archivo en una variable\n",
    "file_path = r'c:\\Software\\latam_challenge\\farmers-protest-tweets-2021-2-4.json'\n",
    "\n",
    "# Llamo a la función con la ruta del archivo JSON\n",
    "resultados = q3_memory(file_path)\n",
    "print(resultados)"
   ]
  },
  {
   "cell_type": "markdown",
   "metadata": {},
   "source": [
    "## Sexta Función q3_time.py\n",
    "\n",
    "### Estrategia\n",
    "Recorro el archivo línea por línea y cuento las menciones por cada usuario"
   ]
  },
  {
   "cell_type": "code",
   "execution_count": 3,
   "metadata": {},
   "outputs": [
    {
     "name": "stdout",
     "output_type": "stream",
     "text": [
      "[('narendramodi', 2265), ('Kisanektamorcha', 1840), ('RakeshTikaitBKU', 1644), ('PMOIndia', 1427), ('RahulGandhi', 1146), ('GretaThunberg', 1048), ('RaviSinghKA', 1019), ('rihanna', 986), ('UNHumanRights', 962), ('meenaharris', 926)]\n"
     ]
    }
   ],
   "source": [
    "from q3_time import q3_time\n",
    "\n",
    "# Ejemplo de como llamo la función para probar su funcionamiento\n",
    "\n",
    "#Defino la ruta del archivo en una variable\n",
    "file_path = r'c:\\Software\\latam_challenge\\farmers-protest-tweets-2021-2-4.json'\n",
    "\n",
    "# Llamo a la función con la ruta del archivo JSON\n",
    "resultados = q3_time(file_path)\n",
    "print(resultados)"
   ]
  }
 ],
 "metadata": {
  "kernelspec": {
   "display_name": "Python 3",
   "language": "python",
   "name": "python3"
  },
  "language_info": {
   "codemirror_mode": {
    "name": "ipython",
    "version": 3
   },
   "file_extension": ".py",
   "mimetype": "text/x-python",
   "name": "python",
   "nbconvert_exporter": "python",
   "pygments_lexer": "ipython3",
   "version": "3.12.2"
  },
  "orig_nbformat": 4
 },
 "nbformat": 4,
 "nbformat_minor": 2
}
